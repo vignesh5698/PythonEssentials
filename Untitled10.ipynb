{
 "cells": [
  {
   "cell_type": "code",
   "execution_count": 1,
   "metadata": {},
   "outputs": [],
   "source": [
    "import numpy as np"
   ]
  },
  {
   "cell_type": "code",
   "execution_count": 2,
   "metadata": {},
   "outputs": [],
   "source": [
    "li=[12,23,34,45,56,67,78,89,90]"
   ]
  },
  {
   "cell_type": "code",
   "execution_count": 4,
   "metadata": {},
   "outputs": [
    {
     "name": "stdout",
     "output_type": "stream",
     "text": [
      "[12 23 34 45 56 67 78 89 90]\n"
     ]
    }
   ],
   "source": [
    "print(np.array(li))"
   ]
  },
  {
   "cell_type": "code",
   "execution_count": 5,
   "metadata": {},
   "outputs": [
    {
     "name": "stdout",
     "output_type": "stream",
     "text": [
      "[ 0  1  2  3  4  5  6  7  8  9 10 11 12 13 14 15 16 17 18 19 20 21 22 23 24\n",
      " 25 26 27 28 29 30 31 32 33 34 35 36 37 38 39 40 41 42 43 44 45 46 47 48 49\n",
      " 50 51 52 53 54 55 56 57 58 59 60 61 62 63 64 65 66 67 68 69 70 71 72 73 74\n",
      " 75 76 77 78 79 80 81 82 83 84 85 86 87 88 89 90 91 92 93 94 95 96 97 98 99]\n"
     ]
    }
   ],
   "source": [
    "print(np.arange(0,100))"
   ]
  },
  {
   "cell_type": "code",
   "execution_count": 6,
   "metadata": {},
   "outputs": [
    {
     "name": "stdout",
     "output_type": "stream",
     "text": [
      "[ 0  5 10 15 20 25 30 35 40 45 50 55 60 65 70 75 80 85 90 95]\n"
     ]
    }
   ],
   "source": [
    "print(np.arange(0,100,5))"
   ]
  },
  {
   "cell_type": "code",
   "execution_count": 8,
   "metadata": {},
   "outputs": [
    {
     "name": "stdout",
     "output_type": "stream",
     "text": [
      "[[ 1.  1.  1.  1.]\n",
      " [ 1.  1.  1.  1.]\n",
      " [ 1.  1.  1.  1.]\n",
      " [ 1.  1.  1.  1.]]\n"
     ]
    }
   ],
   "source": [
    "print(np.ones((4,4)))"
   ]
  },
  {
   "cell_type": "code",
   "execution_count": 9,
   "metadata": {},
   "outputs": [
    {
     "name": "stdout",
     "output_type": "stream",
     "text": [
      "[  0.   5.  10.]\n"
     ]
    }
   ],
   "source": [
    "print(np.linspace(0,10,3))"
   ]
  },
  {
   "cell_type": "code",
   "execution_count": 12,
   "metadata": {},
   "outputs": [
    {
     "name": "stdout",
     "output_type": "stream",
     "text": [
      "[23 24 74 56 89 94 16 40 15 53 28 85 48 31 61 55 30 13  6  2 39 63 29 72 65\n",
      " 78  4 16 29 65 26 85 52 93  8 55 46  7 43 20 20 32 34 30 35 96 44 97 15 40\n",
      " 37 33 32 11 33  8 12 83 28 55 19 53 53  5 66 71 80 34  5 85 67 17 40 52 99\n",
      " 96  8  2 56 82 23 76 17 89 63 90 87 22 36 78 88 94 83 92 79 85 39 91 61 22\n",
      " 66 37 82 77 69  6 34 64 11 73 49 18 68 58 22 15  7 44  2 45 75 31 97 32 21\n",
      "  2 60 82 22 32 49 74 68 63 62 83 35 23 18 74 97 67 44 75 55 30 31 13  4 38]\n"
     ]
    }
   ],
   "source": [
    "print(np.random.randint(1,100,150))"
   ]
  },
  {
   "cell_type": "code",
   "execution_count": 13,
   "metadata": {},
   "outputs": [],
   "source": [
    "np.random.seed(1)"
   ]
  },
  {
   "cell_type": "code",
   "execution_count": 23,
   "metadata": {},
   "outputs": [
    {
     "name": "stdout",
     "output_type": "stream",
     "text": [
      "19\n"
     ]
    }
   ],
   "source": [
    "np.random.seed(13)\n",
    "print(np.random.randint(1,30))"
   ]
  },
  {
   "cell_type": "code",
   "execution_count": 27,
   "metadata": {},
   "outputs": [],
   "source": [
    "a=np.random.randint(1,100,100)\n",
    "b=a.reshape(10,10)"
   ]
  },
  {
   "cell_type": "code",
   "execution_count": 30,
   "metadata": {},
   "outputs": [
    {
     "name": "stdout",
     "output_type": "stream",
     "text": [
      "[[84 60 97 73 19 27 20 77 49 18]\n",
      " [61 44 73 63 17 70 97 29 41 48]\n",
      " [29 16 33 14 39 82 11 90 96 16]\n",
      " [79 94 92 21 46 82 40 48 48 76]\n",
      " [98 57 32 74 57 77 41 18  7 43]\n",
      " [89 23 23 60 39 94 89 65 67 15]\n",
      " [25 40 54 29 85 86 99 48 48 66]\n",
      " [34 51 74 61 87 86 37 71 11  5]\n",
      " [48 41 65 48 30 96 88  1 46 16]\n",
      " [93 11 18  3 78 37 18 96 87 45]]\n"
     ]
    }
   ],
   "source": [
    "print(b)"
   ]
  },
  {
   "cell_type": "code",
   "execution_count": 31,
   "metadata": {},
   "outputs": [],
   "source": [
    "import pandas as pd"
   ]
  },
  {
   "cell_type": "code",
   "execution_count": 32,
   "metadata": {},
   "outputs": [],
   "source": [
    "df=pd.read_csv(\"Documents/test.csv\")"
   ]
  },
  {
   "cell_type": "code",
   "execution_count": 33,
   "metadata": {},
   "outputs": [
    {
     "name": "stdout",
     "output_type": "stream",
     "text": [
      "     Name  Marks\n",
      "0   Vikki    480\n",
      "1   Praga     13\n",
      "2  RajMaa     20\n"
     ]
    }
   ],
   "source": [
    "print(df)"
   ]
  },
  {
   "cell_type": "code",
   "execution_count": 34,
   "metadata": {},
   "outputs": [
    {
     "name": "stdout",
     "output_type": "stream",
     "text": [
      "<bound method NDFrame.describe of      Name  Marks\n",
      "0   Vikki    480\n",
      "1   Praga     13\n",
      "2  RajMaa     20>\n"
     ]
    }
   ],
   "source": [
    "print(df.describe)"
   ]
  },
  {
   "cell_type": "code",
   "execution_count": 37,
   "metadata": {},
   "outputs": [
    {
     "name": "stdout",
     "output_type": "stream",
     "text": [
      "    Name  Marks\n",
      "0  Vikki    480\n"
     ]
    }
   ],
   "source": [
    "print(df[df['Marks']>50])"
   ]
  },
  {
   "cell_type": "code",
   "execution_count": 38,
   "metadata": {},
   "outputs": [
    {
     "name": "stdout",
     "output_type": "stream",
     "text": [
      "0    False\n",
      "1     True\n",
      "2     True\n",
      "Name: Marks, dtype: bool\n"
     ]
    }
   ],
   "source": [
    "print(df['Marks']<50)"
   ]
  },
  {
   "cell_type": "code",
   "execution_count": 39,
   "metadata": {},
   "outputs": [
    {
     "name": "stdout",
     "output_type": "stream",
     "text": [
      "     Name  Marks\n",
      "1   Praga     13\n",
      "2  RajMaa     20\n"
     ]
    }
   ],
   "source": [
    "print(df[df['Marks']<50])"
   ]
  },
  {
   "cell_type": "code",
   "execution_count": 42,
   "metadata": {},
   "outputs": [],
   "source": [
    "import matplotlib.pyplot as plt"
   ]
  },
  {
   "cell_type": "code",
   "execution_count": 43,
   "metadata": {},
   "outputs": [],
   "source": [
    "x=np.arange(1,10)"
   ]
  },
  {
   "cell_type": "code",
   "execution_count": 44,
   "metadata": {},
   "outputs": [],
   "source": [
    "y=x**2"
   ]
  },
  {
   "cell_type": "code",
   "execution_count": 45,
   "metadata": {},
   "outputs": [
    {
     "data": {
      "text/plain": [
       "[<matplotlib.lines.Line2D at 0x7f2364ddca58>]"
      ]
     },
     "execution_count": 45,
     "metadata": {},
     "output_type": "execute_result"
    },
    {
     "data": {
      "image/png": "[encoded data removed]",
      "text/plain": [
       "<matplotlib.figure.Figure at 0x7f2364cbb160>"
      ]
     },
     "metadata": {},
     "output_type": "display_data"
    }
   ],
   "source": [
    "plt.plot(x,y,'blue')"
   ]
  },
  {
   "cell_type": "code",
   "execution_count": 46,
   "metadata": {},
   "outputs": [
    {
     "data": {
      "text/plain": [
       "[<matplotlib.lines.Line2D at 0x7f2364df7cc0>]"
      ]
     },
     "execution_count": 46,
     "metadata": {},
     "output_type": "execute_result"
    },
    {
     "data": {
      "image/png": "[encoded data removed]",
      "text/plain": [
       "<matplotlib.figure.Figure at 0x7f2364f17a58>"
      ]
     },
     "metadata": {},
     "output_type": "display_data"
    }
   ],
   "source": [
    "plt.plot(x,y,'*')"
   ]
  },
  {
   "cell_type": "code",
   "execution_count": 47,
   "metadata": {},
   "outputs": [
    {
     "data": {
      "text/plain": [
       "[<matplotlib.lines.Line2D at 0x7f2364c806d8>]"
      ]
     },
     "execution_count": 47,
     "metadata": {},
     "output_type": "execute_result"
    },
    {
     "data": {
      "image/png": "[encoded data removed]",
      "text/plain": [
       "<matplotlib.figure.Figure at 0x7f2364dd1630>"
      ]
     },
     "metadata": {},
     "output_type": "display_data"
    }
   ],
   "source": [
    "plt.plot(x,y,'p')"
   ]
  },
  {
   "cell_type": "code",
   "execution_count": 48,
   "metadata": {},
   "outputs": [
    {
     "data": {
      "text/plain": [
       "[<matplotlib.lines.Line2D at 0x7f2364cd76a0>]"
      ]
     },
     "execution_count": 48,
     "metadata": {},
     "output_type": "execute_result"
    },
    {
     "data": {
      "image/png": "[encoded data removed]",
      "text/plain": [
       "<matplotlib.figure.Figure at 0x7f2364d49eb8>"
      ]
     },
     "metadata": {},
     "output_type": "display_data"
    }
   ],
   "source": [
    "plt.plot(x,y,'M')"
   ]
  },
  {
   "cell_type": "code",
   "execution_count": 53,
   "metadata": {},
   "outputs": [],
   "source": [
    "mat=np.arange(0,900).reshape(30,30)"
   ]
  },
  {
   "cell_type": "code",
   "execution_count": 54,
   "metadata": {},
   "outputs": [
    {
     "name": "stdout",
     "output_type": "stream",
     "text": [
      "[[  0   1   2   3   4   5   6   7   8   9  10  11  12  13  14  15  16  17\n",
      "   18  19  20  21  22  23  24  25  26  27  28  29]\n",
      " [ 30  31  32  33  34  35  36  37  38  39  40  41  42  43  44  45  46  47\n",
      "   48  49  50  51  52  53  54  55  56  57  58  59]\n",
      " [ 60  61  62  63  64  65  66  67  68  69  70  71  72  73  74  75  76  77\n",
      "   78  79  80  81  82  83  84  85  86  87  88  89]\n",
      " [ 90  91  92  93  94  95  96  97  98  99 100 101 102 103 104 105 106 107\n",
      "  108 109 110 111 112 113 114 115 116 117 118 119]\n",
      " [120 121 122 123 124 125 126 127 128 129 130 131 132 133 134 135 136 137\n",
      "  138 139 140 141 142 143 144 145 146 147 148 149]\n",
      " [150 151 152 153 154 155 156 157 158 159 160 161 162 163 164 165 166 167\n",
      "  168 169 170 171 172 173 174 175 176 177 178 179]\n",
      " [180 181 182 183 184 185 186 187 188 189 190 191 192 193 194 195 196 197\n",
      "  198 199 200 201 202 203 204 205 206 207 208 209]\n",
      " [210 211 212 213 214 215 216 217 218 219 220 221 222 223 224 225 226 227\n",
      "  228 229 230 231 232 233 234 235 236 237 238 239]\n",
      " [240 241 242 243 244 245 246 247 248 249 250 251 252 253 254 255 256 257\n",
      "  258 259 260 261 262 263 264 265 266 267 268 269]\n",
      " [270 271 272 273 274 275 276 277 278 279 280 281 282 283 284 285 286 287\n",
      "  288 289 290 291 292 293 294 295 296 297 298 299]\n",
      " [300 301 302 303 304 305 306 307 308 309 310 311 312 313 314 315 316 317\n",
      "  318 319 320 321 322 323 324 325 326 327 328 329]\n",
      " [330 331 332 333 334 335 336 337 338 339 340 341 342 343 344 345 346 347\n",
      "  348 349 350 351 352 353 354 355 356 357 358 359]\n",
      " [360 361 362 363 364 365 366 367 368 369 370 371 372 373 374 375 376 377\n",
      "  378 379 380 381 382 383 384 385 386 387 388 389]\n",
      " [390 391 392 393 394 395 396 397 398 399 400 401 402 403 404 405 406 407\n",
      "  408 409 410 411 412 413 414 415 416 417 418 419]\n",
      " [420 421 422 423 424 425 426 427 428 429 430 431 432 433 434 435 436 437\n",
      "  438 439 440 441 442 443 444 445 446 447 448 449]\n",
      " [450 451 452 453 454 455 456 457 458 459 460 461 462 463 464 465 466 467\n",
      "  468 469 470 471 472 473 474 475 476 477 478 479]\n",
      " [480 481 482 483 484 485 486 487 488 489 490 491 492 493 494 495 496 497\n",
      "  498 499 500 501 502 503 504 505 506 507 508 509]\n",
      " [510 511 512 513 514 515 516 517 518 519 520 521 522 523 524 525 526 527\n",
      "  528 529 530 531 532 533 534 535 536 537 538 539]\n",
      " [540 541 542 543 544 545 546 547 548 549 550 551 552 553 554 555 556 557\n",
      "  558 559 560 561 562 563 564 565 566 567 568 569]\n",
      " [570 571 572 573 574 575 576 577 578 579 580 581 582 583 584 585 586 587\n",
      "  588 589 590 591 592 593 594 595 596 597 598 599]\n",
      " [600 601 602 603 604 605 606 607 608 609 610 611 612 613 614 615 616 617\n",
      "  618 619 620 621 622 623 624 625 626 627 628 629]\n",
      " [630 631 632 633 634 635 636 637 638 639 640 641 642 643 644 645 646 647\n",
      "  648 649 650 651 652 653 654 655 656 657 658 659]\n",
      " [660 661 662 663 664 665 666 667 668 669 670 671 672 673 674 675 676 677\n",
      "  678 679 680 681 682 683 684 685 686 687 688 689]\n",
      " [690 691 692 693 694 695 696 697 698 699 700 701 702 703 704 705 706 707\n",
      "  708 709 710 711 712 713 714 715 716 717 718 719]\n",
      " [720 721 722 723 724 725 726 727 728 729 730 731 732 733 734 735 736 737\n",
      "  738 739 740 741 742 743 744 745 746 747 748 749]\n",
      " [750 751 752 753 754 755 756 757 758 759 760 761 762 763 764 765 766 767\n",
      "  768 769 770 771 772 773 774 775 776 777 778 779]\n",
      " [780 781 782 783 784 785 786 787 788 789 790 791 792 793 794 795 796 797\n",
      "  798 799 800 801 802 803 804 805 806 807 808 809]\n",
      " [810 811 812 813 814 815 816 817 818 819 820 821 822 823 824 825 826 827\n",
      "  828 829 830 831 832 833 834 835 836 837 838 839]\n",
      " [840 841 842 843 844 845 846 847 848 849 850 851 852 853 854 855 856 857\n",
      "  858 859 860 861 862 863 864 865 866 867 868 869]\n",
      " [870 871 872 873 874 875 876 877 878 879 880 881 882 883 884 885 886 887\n",
      "  888 889 890 891 892 893 894 895 896 897 898 899]]\n"
     ]
    }
   ],
   "source": [
    "print(mat)"
   ]
  },
  {
   "cell_type": "code",
   "execution_count": 55,
   "metadata": {},
   "outputs": [],
   "source": [
    "mat2=mat**2"
   ]
  },
  {
   "cell_type": "code",
   "execution_count": 57,
   "metadata": {},
   "outputs": [
    {
     "data": {
      "text/plain": [
       "[<matplotlib.lines.Line2D at 0x7f235f2dfe10>,\n",
       " <matplotlib.lines.Line2D at 0x7f235f2dff98>,\n",
       " <matplotlib.lines.Line2D at 0x7f235f2e71d0>,\n",
       " <matplotlib.lines.Line2D at 0x7f235f2e7320>,\n",
       " <matplotlib.lines.Line2D at 0x7f235f2e74e0>,\n",
       " <matplotlib.lines.Line2D at 0x7f235f2e76a0>,\n",
       " <matplotlib.lines.Line2D at 0x7f235f2e7908>,\n",
       " <matplotlib.lines.Line2D at 0x7f235f334780>,\n",
       " <matplotlib.lines.Line2D at 0x7f235f2e7be0>,\n",
       " <matplotlib.lines.Line2D at 0x7f235f2e7dd8>,\n",
       " <matplotlib.lines.Line2D at 0x7f2364e5be10>,\n",
       " <matplotlib.lines.Line2D at 0x7f235f2eb1d0>,\n",
       " <matplotlib.lines.Line2D at 0x7f235f2eb390>,\n",
       " <matplotlib.lines.Line2D at 0x7f235f2eb550>,\n",
       " <matplotlib.lines.Line2D at 0x7f235f2e7a58>,\n",
       " <matplotlib.lines.Line2D at 0x7f235f2eb908>,\n",
       " <matplotlib.lines.Line2D at 0x7f235f2ebb00>,\n",
       " <matplotlib.lines.Line2D at 0x7f235f2ebcf8>,\n",
       " <matplotlib.lines.Line2D at 0x7f235f2ebef0>,\n",
       " <matplotlib.lines.Line2D at 0x7f235f2f0128>,\n",
       " <matplotlib.lines.Line2D at 0x7f235f2f0320>,\n",
       " <matplotlib.lines.Line2D at 0x7f235f2eb710>,\n",
       " <matplotlib.lines.Line2D at 0x7f235f2f0710>,\n",
       " <matplotlib.lines.Line2D at 0x7f235f2f0908>,\n",
       " <matplotlib.lines.Line2D at 0x7f235f2f0b00>,\n",
       " <matplotlib.lines.Line2D at 0x7f235f2f0cf8>,\n",
       " <matplotlib.lines.Line2D at 0x7f235f2f0ef0>,\n",
       " <matplotlib.lines.Line2D at 0x7f235f2f4128>,\n",
       " <matplotlib.lines.Line2D at 0x7f235f2f0518>,\n",
       " <matplotlib.lines.Line2D at 0x7f235f2f4518>]"
      ]
     },
     "execution_count": 57,
     "metadata": {},
     "output_type": "execute_result"
    },
    {
     "data": {
      "image/png": "[encoded data removed]",
      "text/plain": [
       "<matplotlib.figure.Figure at 0x7f2364eda7b8>"
      ]
     },
     "metadata": {},
     "output_type": "display_data"
    }
   ],
   "source": [
    "plt.plot(mat,mat2,'*')"
   ]
  },
  {
   "cell_type": "code",
   "execution_count": null,
   "metadata": {},
   "outputs": [],
   "source": []
  },
  {
   "cell_type": "code",
   "execution_count": null,
   "metadata": {},
   "outputs": [],
   "source": []
  },
  {
   "cell_type": "code",
   "execution_count": null,
   "metadata": {},
   "outputs": [],
   "source": []
  },
  {
   "cell_type": "code",
   "execution_count": null,
   "metadata": {},
   "outputs": [],
   "source": []
  },
  {
   "cell_type": "code",
   "execution_count": null,
   "metadata": {},
   "outputs": [],
   "source": []
  },
  {
   "cell_type": "code",
   "execution_count": null,
   "metadata": {},
   "outputs": [],
   "source": []
  },
  {
   "cell_type": "code",
   "execution_count": null,
   "metadata": {},
   "outputs": [],
   "source": []
  },
  {
   "cell_type": "code",
   "execution_count": null,
   "metadata": {},
   "outputs": [],
   "source": []
  },
  {
   "cell_type": "code",
   "execution_count": null,
   "metadata": {},
   "outputs": [],
   "source": []
  },
  {
   "cell_type": "code",
   "execution_count": null,
   "metadata": {},
   "outputs": [],
   "source": []
  },
  {
   "cell_type": "code",
   "execution_count": null,
   "metadata": {},
   "outputs": [],
   "source": []
  },
  {
   "cell_type": "code",
   "execution_count": null,
   "metadata": {},
   "outputs": [],
   "source": []
  },
  {
   "cell_type": "code",
   "execution_count": null,
   "metadata": {},
   "outputs": [],
   "source": []
  },
  {
   "cell_type": "code",
   "execution_count": null,
   "metadata": {},
   "outputs": [],
   "source": []
  },
  {
   "cell_type": "code",
   "execution_count": null,
   "metadata": {},
   "outputs": [],
   "source": []
  },
  {
   "cell_type": "code",
   "execution_count": null,
   "metadata": {},
   "outputs": [],
   "source": []
  },
  {
   "cell_type": "code",
   "execution_count": null,
   "metadata": {},
   "outputs": [],
   "source": []
  },
  {
   "cell_type": "code",
   "execution_count": null,
   "metadata": {},
   "outputs": [],
   "source": []
  },
  {
   "cell_type": "code",
   "execution_count": null,
   "metadata": {},
   "outputs": [],
   "source": []
  },
  {
   "cell_type": "code",
   "execution_count": null,
   "metadata": {},
   "outputs": [],
   "source": []
  },
  {
   "cell_type": "code",
   "execution_count": null,
   "metadata": {},
   "outputs": [],
   "source": []
  },
  {
   "cell_type": "code",
   "execution_count": null,
   "metadata": {},
   "outputs": [],
   "source": []
  },
  {
   "cell_type": "code",
   "execution_count": null,
   "metadata": {},
   "outputs": [],
   "source": []
  },
  {
   "cell_type": "code",
   "execution_count": null,
   "metadata": {},
   "outputs": [],
   "source": []
  },
  {
   "cell_type": "code",
   "execution_count": null,
   "metadata": {},
   "outputs": [],
   "source": []
  },
  {
   "cell_type": "code",
   "execution_count": null,
   "metadata": {},
   "outputs": [],
   "source": []
  },
  {
   "cell_type": "code",
   "execution_count": null,
   "metadata": {},
   "outputs": [],
   "source": []
  },
  {
   "cell_type": "code",
   "execution_count": null,
   "metadata": {},
   "outputs": [],
   "source": []
  },
  {
   "cell_type": "code",
   "execution_count": null,
   "metadata": {},
   "outputs": [],
   "source": []
  }
 ],
 "metadata": {
  "kernelspec": {
   "display_name": "Python 3",
   "language": "python",
   "name": "python3"
  },
  "language_info": {
   "codemirror_mode": {
    "name": "ipython",
    "version": 3
   },
   "file_extension": ".py",
   "mimetype": "text/x-python",
   "name": "python",
   "nbconvert_exporter": "python",
   "pygments_lexer": "ipython3",
   "version": "3.5.2"
  }
 },
 "nbformat": 4,
 "nbformat_minor": 2
}
