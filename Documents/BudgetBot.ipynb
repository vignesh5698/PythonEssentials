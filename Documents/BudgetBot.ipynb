{
 "cells": [
  {
   "cell_type": "code",
   "execution_count": 81,
   "metadata": {},
   "outputs": [
    {
     "name": "stdout",
     "output_type": "stream",
     "text": [
      "['money', 'allocated', 'education', 'budget']\n"
     ]
    }
   ],
   "source": [
    "import nltk\n",
    "from nltk.corpus import stopwords\n",
    "\n",
    "\n",
    "def filter_common(value):\n",
    "    s = set(stopwords.words('english'))\n",
    "    value = value.lower()\n",
    "    return list(filter(lambda w: not w in s, value.split()))\n",
    "\n",
    "\n",
    "find = filter_common(\"Money allocated for education in this budget\")\n",
    "\n",
    "#for l in find: \n",
    "#    if l == \"budget\":\n",
    "#        find.remove(l)\n",
    "print(find)\n"
   ]
  },
  {
   "cell_type": "code",
   "execution_count": 8,
   "metadata": {},
   "outputs": [],
   "source": [
    "import glob\n",
    "import os \n",
    "import xml.etree.ElementTree\n",
    "from bs4 import BeautifulSoup\n",
    "import html2text\n",
    "from gensim import corpora, models, similarities\n",
    "corpus = [] \n",
    "\n",
    "articles = sorted(glob.glob(\"data/2016/*.xml\"))    \n",
    "for article in articles:\n",
    "  e = xml.etree.ElementTree.parse(article).getroot()\n",
    "  corpus.append(filter_common(html2text.html2text(e[0][3].text)))  \n",
    "#dictionary = corpora.Dictionary(corpus)\n",
    "#print(dictionary.token2id)\n",
    "\n",
    "def frquency_distro(list1, list2):\n",
    "    i = []\n",
    "    k = 0\n",
    "    for l in list1:\n",
    "        for b in list2:\n",
    "            if l==b:\n",
    "                k = k + 1\n",
    "        i.append(k)\n",
    "        k=0\n",
    "    return i\n",
    "\n",
    "\n",
    "#print(final_vector)\n",
    "\n",
    "\n",
    "for cor in corpus: \n",
    "    dictionary = corpora.Dictionary(cor.split(\",\"))\n",
    "    final_vector = dictionary.doc2bow(find)\n",
    "    \n",
    "    \n",
    "    \n",
    "    \n",
    "    #for k in frquency_distro(find, cor): \n",
    "    #    if k>0:\n",
    "     #       print(frquency_distro(find, cor))\n",
    "    "
   ]
  },
  {
   "cell_type": "code",
   "execution_count": null,
   "metadata": {
    "collapsed": true
   },
   "outputs": [],
   "source": []
  }
 ],
 "metadata": {
  "kernelspec": {
   "display_name": "Python 3",
   "language": "python",
   "name": "python3"
  },
  "language_info": {
   "codemirror_mode": {
    "name": "ipython",
    "version": 3
   },
   "file_extension": ".py",
   "mimetype": "text/x-python",
   "name": "python",
   "nbconvert_exporter": "python",
   "pygments_lexer": "ipython3",
   "version": "3.5.2"
  }
 },
 "nbformat": 4,
 "nbformat_minor": 2
}
