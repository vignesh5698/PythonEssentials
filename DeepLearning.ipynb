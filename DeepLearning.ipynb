{
 "cells": [
  {
   "cell_type": "markdown",
   "metadata": {},
   "source": [
    "#345909"
   ]
  },
  {
   "cell_type": "markdown",
   "metadata": {},
   "source": [
    "# Amazon Deep Learning Workshop"
   ]
  },
  {
   "cell_type": "markdown",
   "metadata": {},
   "source": [
    "Supervised Learning - Labels\n",
    "Core Components:\n",
    "    ip data,targets,model,Loss Function,Learing rule\n",
    "Neurons and Learning:\n",
    "    Neural Network,Perceptron\n",
    "    MultiLayer Perceptron\n",
    "MultiLayer Perceptron Trainings:\n",
    "    calculus Chain rule:\n",
    "    Layer rep\n",
    "    Gradient\n",
    "Convolutional Layers    \n",
    "arxiv.org/pdf/1409.4842v1.pdf\n",
    "Image Classification\n",
    "\n",
    "    "
   ]
  },
  {
   "cell_type": "markdown",
   "metadata": {},
   "source": [
    "Gluon Framework"
   ]
  },
  {
   "cell_type": "code",
   "execution_count": 3,
   "metadata": {},
   "outputs": [],
   "source": [
    "import mxnet as mx\n",
    "#a=mx.nd.zeros(100,50)"
   ]
  },
  {
   "cell_type": "markdown",
   "metadata": {},
   "source": [
    "mxnet\n",
    "symbolic vs imperative\n",
    "*Gluon*\n",
    "AutoParallelism\n",
    "Data Parallelism\n",
    "imagenet-check\n",
    "**mxnet**\n"
   ]
  },
  {
   "cell_type": "markdown",
   "metadata": {},
   "source": [
    "Tensors in ML Alg:\n",
    "    Scalar \n",
    "    Vector\n",
    "    Matrix\n",
    "    Tensor"
   ]
  },
  {
   "cell_type": "markdown",
   "metadata": {},
   "source": [
    "Tensorly:Framework for Tensor Algebra\n",
    "Tensor RNN and Tensor LSTM\n",
    "TLSTM for long term forwcasting\n",
    "Tensor Sketching Algorithms\n",
    "Learning LDA model\n",
    "Moment Tensor:Co-occerence of word triplets"
   ]
  },
  {
   "cell_type": "markdown",
   "metadata": {},
   "source": [
    "Bias is a constant term\n",
    "Loss function vs min/max funcions\n",
    "Data parallelism vs Model parallelism\n"
   ]
  },
  {
   "cell_type": "markdown",
   "metadata": {},
   "source": [
    "**Convolutional Neural Network**"
   ]
  },
  {
   "cell_type": "markdown",
   "metadata": {},
   "source": [
    "High accuracy for visionbased applications-Rawpixels can be fed into NN,very little hand crafting of features needed-\n",
    "Types of ML problems:\n",
    "**Classification:**\n",
    "Class labels for output\n",
    "**Regression:**\n",
    "Output takes continuous values\n",
    "        \n",
    "Linear Models and Non Linear Models        \n",
    "Deep Neural Network\n",
    "Add non linearity to the hidden layers\n",
    "\n",
    "Hyperparams\n",
    "Filters and Activation Maps\n",
    "Pooling or subSampling\n",
    "Fully connected Neural Net vs Locally connected Neural net"
   ]
  },
  {
   "cell_type": "markdown",
   "metadata": {},
   "source": [
    "**Gluon**"
   ]
  },
  {
   "cell_type": "markdown",
   "metadata": {},
   "source": [
    "CNN in Symbolic MXNet;Training-ValidationSet-Overfitting;**||**\n",
    "Loss Function:Measure of diff btwn neuralnet's guess and ground truth;**||**\n",
    "\n"
   ]
  },
  {
   "cell_type": "markdown",
   "metadata": {},
   "source": [
    "CNN:\n",
    "Transfer Learning Overview\n",
    "http://gluon.mxnet.io/\n"
   ]
  },
  {
   "cell_type": "markdown",
   "metadata": {},
   "source": [
    "Amazon Sage Maker\n",
    "Amazon ECR - contaniners\n"
   ]
  }
 ],
 "metadata": {
  "kernelspec": {
   "display_name": "Python 3",
   "language": "python",
   "name": "python3"
  },
  "language_info": {
   "codemirror_mode": {
    "name": "ipython",
    "version": 3
   },
   "file_extension": ".py",
   "mimetype": "text/x-python",
   "name": "python",
   "nbconvert_exporter": "python",
   "pygments_lexer": "ipython3",
   "version": "3.5.2"
  }
 },
 "nbformat": 4,
 "nbformat_minor": 2
}
